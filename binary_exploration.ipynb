{
 "cells": [
  {
   "cell_type": "code",
   "execution_count": null,
   "metadata": {
    "collapsed": true
   },
   "outputs": [],
   "source": [
    "binary_number = 0b111"
   ]
  },
  {
   "cell_type": "code",
   "execution_count": null,
   "outputs": [],
   "source": [
    "binary_number"
   ],
   "metadata": {
    "collapsed": false
   }
  },
  {
   "cell_type": "code",
   "execution_count": null,
   "outputs": [],
   "source": [
    "a = 7\n",
    "b = -(a+1)"
   ],
   "metadata": {
    "collapsed": false
   }
  },
  {
   "cell_type": "code",
   "execution_count": null,
   "outputs": [],
   "source": [
    "print(a,b)"
   ],
   "metadata": {
    "collapsed": false
   }
  },
  {
   "cell_type": "code",
   "execution_count": null,
   "outputs": [],
   "source": [
    "bin(a)"
   ],
   "metadata": {
    "collapsed": false
   }
  },
  {
   "cell_type": "code",
   "execution_count": null,
   "outputs": [],
   "source": [
    "bin(b)"
   ],
   "metadata": {
    "collapsed": false
   }
  },
  {
   "cell_type": "code",
   "execution_count": null,
   "outputs": [],
   "source": [
    "~a == b"
   ],
   "metadata": {
    "collapsed": false
   }
  },
  {
   "cell_type": "code",
   "execution_count": null,
   "outputs": [],
   "source": [],
   "metadata": {
    "collapsed": false
   }
  },
  {
   "cell_type": "code",
   "execution_count": null,
   "outputs": [],
   "source": [
    "reg = [0]*8"
   ],
   "metadata": {
    "collapsed": false
   }
  },
  {
   "cell_type": "code",
   "execution_count": null,
   "outputs": [],
   "source": [
    "print(f\"{'Bit':<5s} {'Val':<5s}\")\n",
    "for i, bit in enumerate(reg):\n",
    "    print(f\"{i:<5d}{bit:<5d}\")\n"
   ],
   "metadata": {
    "collapsed": false
   }
  },
  {
   "cell_type": "code",
   "execution_count": null,
   "outputs": [],
   "source": [
    "print(\"Bit Place:\\t\",end='')\n",
    "for i in range(len(reg)-1,-1,-1):\n",
    "    print(f\"{i:<5d}\",end='')\n",
    "print()\n",
    "print(f\"{'Value:':<9s}\\t\",end='')\n",
    "for i in range(len(reg)-1,-1,-1):\n",
    "    print(f\"{reg[i]:<5d}\",end='')"
   ],
   "metadata": {
    "collapsed": false
   }
  },
  {
   "cell_type": "code",
   "execution_count": 6,
   "outputs": [],
   "source": [
    "from register import Register"
   ],
   "metadata": {
    "collapsed": false,
    "ExecuteTime": {
     "end_time": "2023-10-21T19:24:34.498605Z",
     "start_time": "2023-10-21T19:24:34.486871Z"
    }
   }
  },
  {
   "cell_type": "code",
   "execution_count": 14,
   "outputs": [
    {
     "name": "stdout",
     "output_type": "stream",
     "text": [
      "Bit Place:\t0    1    2    3    4    5    6    7    \n",
      "Value:   \t1    1    0    0    0    0    0    0    \n",
      "Sign:    \t+\n",
      "Bit Place:\t0    1    2    3    4    5    6    7    \n",
      "Value:   \t1    0    1    0    0    0    0    0    \n",
      "Sign:    \t+\n",
      "Bit Place:\t0    1    2    3    4    5    6    7    \n",
      "Value:   \t0    0    0    1    0    0    0    0    \n",
      "Sign:    \t+\n"
     ]
    }
   ],
   "source": [
    "a = Register(3,8)\n",
    "b = Register(5,8)\n",
    "b = Register(8,8)"
   ],
   "metadata": {
    "collapsed": false,
    "ExecuteTime": {
     "end_time": "2023-10-21T19:27:48.592257Z",
     "start_time": "2023-10-21T19:27:48.584544Z"
    }
   }
  },
  {
   "cell_type": "code",
   "execution_count": 12,
   "outputs": [
    {
     "data": {
      "text/plain": "8"
     },
     "execution_count": 12,
     "metadata": {},
     "output_type": "execute_result"
    }
   ],
   "source": [
    "val = 0\n",
    "for i,bit in enumerate(a.value):\n",
    "    val += bit * (2**i)\n",
    "\n",
    "val"
   ],
   "metadata": {
    "collapsed": false,
    "ExecuteTime": {
     "end_time": "2023-10-21T19:26:37.278597Z",
     "start_time": "2023-10-21T19:26:37.262409Z"
    }
   }
  },
  {
   "cell_type": "code",
   "execution_count": null,
   "outputs": [],
   "source": [
    "bin(binary_number)"
   ],
   "metadata": {
    "collapsed": false
   }
  },
  {
   "cell_type": "code",
   "execution_count": null,
   "outputs": [],
   "source": [
    "n =7\n",
    "b = [n >> i & 1 for i in range(n.bit_length() - 1,-1,-1)]"
   ],
   "metadata": {
    "collapsed": false
   }
  },
  {
   "cell_type": "code",
   "execution_count": null,
   "outputs": [],
   "source": [
    "~7"
   ],
   "metadata": {
    "collapsed": false
   }
  },
  {
   "cell_type": "code",
   "execution_count": null,
   "outputs": [],
   "source": [
    "n = 7\n",
    "while n:\n",
    "    print(n)\n",
    "    n >>= 1"
   ],
   "metadata": {
    "collapsed": false
   }
  },
  {
   "cell_type": "code",
   "execution_count": null,
   "outputs": [],
   "source": [
    "n = 7\n",
    "\n",
    "if n < 0:\n",
    "    n = -(n-1)\n",
    "    tc = True\n",
    "    print(n)\n",
    "else:\n",
    "    tc = False\n",
    "#print(0,bin(n),n)\n",
    "rg =[0]*8\n",
    "for i in range(8):\n",
    "    print(i,n,bin(n), bin(n & 1),n&1)\n",
    "    rg[i] |= n&1\n",
    "    n = n >> 1\n",
    "\n",
    "print(tc,rg)"
   ],
   "metadata": {
    "collapsed": false
   }
  },
  {
   "cell_type": "code",
   "execution_count": null,
   "outputs": [],
   "source": [
    "bin(8)"
   ],
   "metadata": {
    "collapsed": false
   }
  },
  {
   "cell_type": "code",
   "execution_count": null,
   "outputs": [],
   "source": [
    "bin(~7)"
   ],
   "metadata": {
    "collapsed": false
   }
  },
  {
   "cell_type": "code",
   "execution_count": null,
   "outputs": [],
   "source": [],
   "metadata": {
    "collapsed": false
   }
  }
 ],
 "metadata": {
  "kernelspec": {
   "display_name": "Python 3",
   "language": "python",
   "name": "python3"
  },
  "language_info": {
   "codemirror_mode": {
    "name": "ipython",
    "version": 2
   },
   "file_extension": ".py",
   "mimetype": "text/x-python",
   "name": "python",
   "nbconvert_exporter": "python",
   "pygments_lexer": "ipython2",
   "version": "2.7.6"
  }
 },
 "nbformat": 4,
 "nbformat_minor": 0
}
